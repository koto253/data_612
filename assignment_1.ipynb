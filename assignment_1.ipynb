{
 "cells": [
  {
   "cell_type": "code",
   "execution_count": null,
   "id": "b60796b1",
   "metadata": {},
   "outputs": [],
   "source": [
    "# Define a function total_loop_with_while that takes two arguments, num1 and num2\n",
    "def total_loop(num1, num2):\n",
    "    total_sum = 0  # Initialize total_sum variable to 0 to keep track of the sum\n",
    "    \n",
    "    # If num1 is greater than num2, immediately return 0 since no range to sum up\n",
    "    if num1 > num2:\n",
    "        return 0\n",
    "    # If num1 is equal to num2, there's only one number to sum, so return it\n",
    "    elif num1 == num2:\n",
    "        return num1\n",
    "    else:\n",
    "        # If num1 is less than num2, start a while loop to sum all numbers in the range\n",
    "        while num1 <= num2:\n",
    "            total_sum += num1  # Add the current number to total_sum\n",
    "            num1 += 1  # Increment num1 to move to the next number in the range\n",
    "        return total_sum  # Return the computed sum once the loop is done\n",
    "\n",
    "\n"
   ]
  },
  {
   "cell_type": "code",
   "execution_count": null,
   "id": "8d310f18",
   "metadata": {},
   "outputs": [],
   "source": [
    "# Calls the total_loop_with_while function with these inputs and prints the result\n",
    "print(total_loop(int(input('Enter a Num1: ')), int(input('Enter a Num2: '))))\n",
    "\n"
   ]
  },
  {
   "cell_type": "code",
   "execution_count": null,
   "id": "d9613ad1",
   "metadata": {},
   "outputs": [],
   "source": []
  }
 ],
 "metadata": {
  "kernelspec": {
   "display_name": "Python 3 (ipykernel)",
   "language": "python",
   "name": "python3"
  },
  "language_info": {
   "codemirror_mode": {
    "name": "ipython",
    "version": 3
   },
   "file_extension": ".py",
   "mimetype": "text/x-python",
   "name": "python",
   "nbconvert_exporter": "python",
   "pygments_lexer": "ipython3",
   "version": "3.11.5"
  }
 },
 "nbformat": 4,
 "nbformat_minor": 5
}
