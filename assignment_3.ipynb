{
 "cells": [
  {
   "cell_type": "code",
   "execution_count": 46,
   "id": "2e7f98c4",
   "metadata": {},
   "outputs": [],
   "source": [
    "import pandas as pd\n",
    "import numpy as np"
   ]
  },
  {
   "cell_type": "code",
   "execution_count": 31,
   "id": "d2d50ade",
   "metadata": {},
   "outputs": [
    {
     "data": {
      "text/plain": [
       "(67905, 19)"
      ]
     },
     "execution_count": 31,
     "metadata": {},
     "output_type": "execute_result"
    }
   ],
   "source": [
    "# 1. load dataset\n",
    "df = pd.read_csv('stocks_yahoo.csv', low_memory=False)"
   ]
  },
  {
   "cell_type": "code",
   "execution_count": 60,
   "id": "16b5b6c0",
   "metadata": {},
   "outputs": [
    {
     "data": {
      "text/plain": [
       "(67905, 22)"
      ]
     },
     "execution_count": 60,
     "metadata": {},
     "output_type": "execute_result"
    }
   ],
   "source": [
    "# convert date datetype to datetime\n",
    "date_columns = df['date']\n",
    "\n",
    "df['updated_date'] = pd.to_datetime(date_columns)\n",
    "\n",
    "new_date = df['updated_date']\n",
    "\n",
    "df.shape"
   ]
  },
  {
   "cell_type": "markdown",
   "id": "d7bb2b15",
   "metadata": {},
   "source": []
  },
  {
   "cell_type": "code",
   "execution_count": 59,
   "id": "1ea25d2b",
   "metadata": {},
   "outputs": [
    {
     "data": {
      "text/plain": [
       "Timestamp('2020-04-28 00:00:00')"
      ]
     },
     "execution_count": 59,
     "metadata": {},
     "output_type": "execute_result"
    }
   ],
   "source": [
    "# 1. find maximum DATE of your dataset\n",
    "max_date = updated_date.max()\n",
    "max_date"
   ]
  },
  {
   "cell_type": "code",
   "execution_count": 61,
   "id": "f737ba4b",
   "metadata": {},
   "outputs": [
    {
     "data": {
      "text/plain": [
       "0       159 days\n",
       "1       159 days\n",
       "2       159 days\n",
       "3       159 days\n",
       "4       159 days\n",
       "          ...   \n",
       "67900     0 days\n",
       "67901     0 days\n",
       "67902     0 days\n",
       "67903     0 days\n",
       "67904     0 days\n",
       "Name: subtracted_column, Length: 67905, dtype: timedelta64[ns]"
      ]
     },
     "execution_count": 61,
     "metadata": {},
     "output_type": "execute_result"
    }
   ],
   "source": [
    "df['subtracted_column'] = max_date - new_date\n",
    "\n",
    "df.subtracted_column.astype('int64')\n",
    "\n",
    "days = df.subtracted_column\n",
    "\n",
    "days"
   ]
  },
  {
   "cell_type": "code",
   "execution_count": 58,
   "id": "7c7d3983",
   "metadata": {},
   "outputs": [
    {
     "data": {
      "text/plain": [
       "0       5 days 05:21:40.919842312\n",
       "1       5 days 05:21:40.919842312\n",
       "2       5 days 05:21:40.919842312\n",
       "3       5 days 05:21:40.919842312\n",
       "4       5 days 05:21:40.919842312\n",
       "                   ...           \n",
       "67900             0 days 00:00:00\n",
       "67901             0 days 00:00:00\n",
       "67902             0 days 00:00:00\n",
       "67903             0 days 00:00:00\n",
       "67904             0 days 00:00:00\n",
       "Name: days_in_months, Length: 67905, dtype: timedelta64[ns]"
      ]
     },
     "execution_count": 58,
     "metadata": {},
     "output_type": "execute_result"
    }
   ],
   "source": [
    "# 3.convert the number of days into number of months\n",
    "df['days_in_months'] = df.subtracted_column / 30.44\n",
    "\n",
    "months = df.days_in_months\n",
    "\n",
    "months\n"
   ]
  },
  {
   "cell_type": "code",
   "execution_count": null,
   "id": "46d17460",
   "metadata": {},
   "outputs": [],
   "source": [
    "# 5. SAVE the dataset as CSV file\n",
    "df.to_csv('stocks_yahoo.csv_clean', index=False)"
   ]
  }
 ],
 "metadata": {
  "kernelspec": {
   "display_name": "Python 3 (ipykernel)",
   "language": "python",
   "name": "python3"
  },
  "language_info": {
   "codemirror_mode": {
    "name": "ipython",
    "version": 3
   },
   "file_extension": ".py",
   "mimetype": "text/x-python",
   "name": "python",
   "nbconvert_exporter": "python",
   "pygments_lexer": "ipython3",
   "version": "3.11.5"
  }
 },
 "nbformat": 4,
 "nbformat_minor": 5
}
