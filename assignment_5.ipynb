{
 "cells": [
  {
   "cell_type": "code",
   "execution_count": 1,
   "metadata": {},
   "outputs": [],
   "source": [
    "# Familiarize with merging datasets together\n",
    "# Learn how to identify missing data from a dataset\n",
    "# Handle the missing data from the dataset\n",
    "\n",
    "#"
   ]
  },
  {
   "cell_type": "code",
   "execution_count": 2,
   "metadata": {},
   "outputs": [
    {
     "data": {
      "text/plain": [
       "'\\nMerge other data to your selected data set. \\n    Find another data set, series, text data or a column from another data source and merge with your selected data set.\\n    Identify the missing values on your data set. Count the missing values on your data set and then clean your data set from the missing values.\\n    Submit your your Python Jupter notebook file. Make sure you have comments explaining your code\\n'"
      ]
     },
     "execution_count": 2,
     "metadata": {},
     "output_type": "execute_result"
    }
   ],
   "source": [
    "# multi comment in python\n",
    "'''\n",
    "Merge other data to your selected data set. \n",
    "    Find another data set, series, text data or a column from another data source and merge with your selected data set.\n",
    "    Identify the missing values on your data set. Count the missing values on your data set and then clean your data set from the missing values.\n",
    "    Submit your your Python Jupter notebook file. Make sure you have comments explaining your code\n",
    "'''"
   ]
  },
  {
   "cell_type": "code",
   "execution_count": 55,
   "metadata": {},
   "outputs": [],
   "source": [
    "import pandas as pd\n",
    "import numpy as np\n",
    "import matplotlib.pyplot as plt"
   ]
  },
  {
   "cell_type": "code",
   "execution_count": 4,
   "metadata": {},
   "outputs": [
    {
     "name": "stderr",
     "output_type": "stream",
     "text": [
      "/tmp/ipykernel_6863/652931763.py:3: DtypeWarning: Columns (10) have mixed types. Specify dtype option on import or set low_memory=False.\n",
      "  df3 = pd.read_csv('/home/koto/Desktop/data_612/datasets/stocks_yahoo.csv')\n"
     ]
    }
   ],
   "source": [
    "df1 = pd.read_csv('/home/koto/Desktop/data_612/datasets/state_drug_utilization.csv')\n",
    "df2 = pd.read_csv('/home/koto/Desktop/data_612/datasets/teams.csv')\n",
    "df3 = pd.read_csv('/home/koto/Desktop/data_612/datasets/stocks_yahoo.csv')"
   ]
  },
  {
   "cell_type": "code",
   "execution_count": 8,
   "metadata": {},
   "outputs": [
    {
     "data": {
      "text/plain": [
       "Index(['Unnamed: 0', 'Utilization Type', 'State', 'Labeler Code',\n",
       "       'Product Code', 'Package Size', 'Year', 'Quarter', 'Product Name',\n",
       "       'Units Reimbursed', 'Suppression Used', 'Number of Prescriptions',\n",
       "       'Total Amount Reimbursed', 'Medicaid Amount Reimbursed',\n",
       "       'Non Medicaid Amount Reimbursed', 'Quarter Begin', 'Quarter Begin Date',\n",
       "       'Latitude', 'Longitude', 'Location', 'NDC'],\n",
       "      dtype='object')"
      ]
     },
     "execution_count": 8,
     "metadata": {},
     "output_type": "execute_result"
    }
   ],
   "source": [
    "# output columns names\n",
    "df1.columns"
   ]
  },
  {
   "cell_type": "code",
   "execution_count": 9,
   "metadata": {},
   "outputs": [
    {
     "data": {
      "text/html": [
       "<div>\n",
       "<style scoped>\n",
       "    .dataframe tbody tr th:only-of-type {\n",
       "        vertical-align: middle;\n",
       "    }\n",
       "\n",
       "    .dataframe tbody tr th {\n",
       "        vertical-align: top;\n",
       "    }\n",
       "\n",
       "    .dataframe thead th {\n",
       "        text-align: right;\n",
       "    }\n",
       "</style>\n",
       "<table border=\"1\" class=\"dataframe\">\n",
       "  <thead>\n",
       "    <tr style=\"text-align: right;\">\n",
       "      <th></th>\n",
       "      <th>Unnamed: 0</th>\n",
       "      <th>Utilization Type</th>\n",
       "      <th>State</th>\n",
       "      <th>Labeler Code</th>\n",
       "      <th>Product Code</th>\n",
       "      <th>Package Size</th>\n",
       "      <th>Year</th>\n",
       "      <th>Quarter</th>\n",
       "      <th>Product Name</th>\n",
       "      <th>Units Reimbursed</th>\n",
       "      <th>...</th>\n",
       "      <th>Number of Prescriptions</th>\n",
       "      <th>Total Amount Reimbursed</th>\n",
       "      <th>Medicaid Amount Reimbursed</th>\n",
       "      <th>Non Medicaid Amount Reimbursed</th>\n",
       "      <th>Quarter Begin</th>\n",
       "      <th>Quarter Begin Date</th>\n",
       "      <th>Latitude</th>\n",
       "      <th>Longitude</th>\n",
       "      <th>Location</th>\n",
       "      <th>NDC</th>\n",
       "    </tr>\n",
       "  </thead>\n",
       "  <tbody>\n",
       "    <tr>\n",
       "      <th>0</th>\n",
       "      <td>128037</td>\n",
       "      <td>MCOU</td>\n",
       "      <td>MA</td>\n",
       "      <td>37205</td>\n",
       "      <td>137</td>\n",
       "      <td>5</td>\n",
       "      <td>2010</td>\n",
       "      <td>4</td>\n",
       "      <td>ARTIFICIAL</td>\n",
       "      <td>15.0</td>\n",
       "      <td>...</td>\n",
       "      <td>1</td>\n",
       "      <td>4.08</td>\n",
       "      <td>4.08</td>\n",
       "      <td>0.0</td>\n",
       "      <td>10/1</td>\n",
       "      <td>10/01/2010</td>\n",
       "      <td>31.1801</td>\n",
       "      <td>-91.8749</td>\n",
       "      <td>(31.1801, -91.8749)</td>\n",
       "      <td>37205013705</td>\n",
       "    </tr>\n",
       "    <tr>\n",
       "      <th>1</th>\n",
       "      <td>491755</td>\n",
       "      <td>FFSU</td>\n",
       "      <td>FL</td>\n",
       "      <td>62756</td>\n",
       "      <td>763</td>\n",
       "      <td>88</td>\n",
       "      <td>2010</td>\n",
       "      <td>1</td>\n",
       "      <td>TORSEMIDE</td>\n",
       "      <td>255.0</td>\n",
       "      <td>...</td>\n",
       "      <td>8</td>\n",
       "      <td>103.33</td>\n",
       "      <td>103.33</td>\n",
       "      <td>0.0</td>\n",
       "      <td>1/1</td>\n",
       "      <td>01/01/2010</td>\n",
       "      <td>39.3498</td>\n",
       "      <td>-75.5148</td>\n",
       "      <td>(39.3498, -75.5148)</td>\n",
       "      <td>62756076388</td>\n",
       "    </tr>\n",
       "  </tbody>\n",
       "</table>\n",
       "<p>2 rows × 21 columns</p>\n",
       "</div>"
      ],
      "text/plain": [
       "   Unnamed: 0 Utilization Type State  Labeler Code  Product Code  \\\n",
       "0      128037             MCOU    MA         37205           137   \n",
       "1      491755             FFSU    FL         62756           763   \n",
       "\n",
       "   Package Size  Year  Quarter Product Name  Units Reimbursed  ...  \\\n",
       "0             5  2010        4   ARTIFICIAL              15.0  ...   \n",
       "1            88  2010        1    TORSEMIDE             255.0  ...   \n",
       "\n",
       "   Number of Prescriptions  Total Amount Reimbursed  \\\n",
       "0                        1                     4.08   \n",
       "1                        8                   103.33   \n",
       "\n",
       "   Medicaid Amount Reimbursed  Non Medicaid Amount Reimbursed  Quarter Begin  \\\n",
       "0                        4.08                             0.0           10/1   \n",
       "1                      103.33                             0.0            1/1   \n",
       "\n",
       "  Quarter Begin Date Latitude  Longitude             Location          NDC  \n",
       "0         10/01/2010  31.1801   -91.8749  (31.1801, -91.8749)  37205013705  \n",
       "1         01/01/2010  39.3498   -75.5148  (39.3498, -75.5148)  62756076388  \n",
       "\n",
       "[2 rows x 21 columns]"
      ]
     },
     "execution_count": 9,
     "metadata": {},
     "output_type": "execute_result"
    }
   ],
   "source": [
    "df1.head(2)"
   ]
  },
  {
   "cell_type": "code",
   "execution_count": 33,
   "metadata": {},
   "outputs": [
    {
     "data": {
      "text/plain": [
       "Index(['no', 'date', 'company_name', 'price_at_close', 'price_change',\n",
       "       'price_after_hours', 'previous_close', 'today opened', 'price range',\n",
       "       '52 week range', 'volume', 'average volume', 'market cap',\n",
       "       'beta (3Y Monthly)', 'PE Ratio', 'EPS', 'earnings date',\n",
       "       'Dividend Yield', '1Y target est'],\n",
       "      dtype='object')"
      ]
     },
     "execution_count": 33,
     "metadata": {},
     "output_type": "execute_result"
    }
   ],
   "source": [
    "# output columns names\n",
    "df3.columns"
   ]
  },
  {
   "cell_type": "code",
   "execution_count": 36,
   "metadata": {},
   "outputs": [],
   "source": [
    "merger_df1 = df1.merge(df3, left_on='Unnamed: 0', right_on='no')"
   ]
  },
  {
   "cell_type": "code",
   "execution_count": 68,
   "metadata": {},
   "outputs": [
    {
     "data": {
      "text/plain": [
       "(3439, 40)"
      ]
     },
     "execution_count": 68,
     "metadata": {},
     "output_type": "execute_result"
    }
   ],
   "source": [
    "# the merge dataset contains 3439 rows and 40 columns\n",
    "merger_df1.shape"
   ]
  },
  {
   "cell_type": "code",
   "execution_count": null,
   "metadata": {},
   "outputs": [],
   "source": [
    "# counting mission values \n",
    "# using formula below to output missing per columns \n",
    "# Also I will use the result of shape as reference of missing values\n",
    "# \n",
    "\n",
    "# save number of rows as k_rows\n",
    "k_rows = merger_df1.shape[0] \n",
    "counting_missing_values = k_rows - merger_df1.count()\n",
    "counting_missing_values\n"
   ]
  },
  {
   "cell_type": "code",
   "execution_count": 72,
   "metadata": {},
   "outputs": [],
   "source": [
    "# sum of missing values\n",
    "x = counting_missing_values.sum()"
   ]
  },
  {
   "cell_type": "code",
   "execution_count": 76,
   "metadata": {},
   "outputs": [
    {
     "name": "stdout",
     "output_type": "stream",
     "text": [
      "The merge-df contains 74.85% of missing values\n"
     ]
    }
   ],
   "source": [
    "# percentage of missing values\n",
    "percentage_missing_values = (x * 100) / k_rows\n",
    "print('The merge-df contains ' + str(round(percentage_missing_values, 2)) + '% of missing values')"
   ]
  },
  {
   "cell_type": "code",
   "execution_count": 83,
   "metadata": {},
   "outputs": [
    {
     "name": "stderr",
     "output_type": "stream",
     "text": [
      "/tmp/ipykernel_6863/1028950144.py:5: FutureWarning: DataFrame.interpolate with object dtype is deprecated and will raise in a future version. Call obj.infer_objects(copy=False) before interpolating instead.\n",
      "  fill_missing_values = before_using_interpolate.interpolate()\n"
     ]
    },
    {
     "data": {
      "text/plain": [
       "(3439, 40)"
      ]
     },
     "execution_count": 83,
     "metadata": {},
     "output_type": "execute_result"
    }
   ],
   "source": [
    "# clean merge_df by dropping missing values\n",
    "# Dropping 75% of my dataset is not a good idea\n",
    "# I will concider refill the missing values using the interpolate method\n",
    "before_using_interpolate = merger_df1.infer_objects()\n",
    "fill_missing_values = before_using_interpolate.interpolate()\n",
    "fill_missing_values.shape\n"
   ]
  },
  {
   "cell_type": "code",
   "execution_count": 82,
   "metadata": {},
   "outputs": [
    {
     "data": {
      "text/plain": [
       "Unnamed: 0                          0\n",
       "Utilization Type                    0\n",
       "State                               0\n",
       "Labeler Code                        0\n",
       "Product Code                        0\n",
       "Package Size                        0\n",
       "Year                                0\n",
       "Quarter                             0\n",
       "Product Name                        1\n",
       "Units Reimbursed                    0\n",
       "Suppression Used                    0\n",
       "Number of Prescriptions             0\n",
       "Total Amount Reimbursed             0\n",
       "Medicaid Amount Reimbursed          0\n",
       "Non Medicaid Amount Reimbursed      0\n",
       "Quarter Begin                       0\n",
       "Quarter Begin Date                  0\n",
       "Latitude                            0\n",
       "Longitude                           0\n",
       "Location                          200\n",
       "NDC                                 0\n",
       "no                                  0\n",
       "date                                0\n",
       "company_name                        0\n",
       "price_at_close                      0\n",
       "price_change                        8\n",
       "price_after_hours                   0\n",
       "previous_close                      0\n",
       "today opened                        0\n",
       "price range                         8\n",
       "52 week range                      13\n",
       "volume                              8\n",
       "average volume                      0\n",
       "market cap                         29\n",
       "beta (3Y Monthly)                   0\n",
       "PE Ratio                            0\n",
       "EPS                                 0\n",
       "earnings date                     514\n",
       "Dividend Yield                     16\n",
       "1Y target est                       0\n",
       "dtype: int64"
      ]
     },
     "execution_count": 82,
     "metadata": {},
     "output_type": "execute_result"
    }
   ],
   "source": [
    "# output missing values from the fill_missing_Values dataset\n",
    "fill_missing_values.shape[0] - fill_missing_values.count()\n",
    "\n"
   ]
  },
  {
   "cell_type": "code",
   "execution_count": 87,
   "metadata": {},
   "outputs": [
    {
     "name": "stdout",
     "output_type": "stream",
     "text": [
      "Now the dataset contains 23.18% of missing values\n"
     ]
    }
   ],
   "source": [
    "# second calculation the percentage of missing values\n",
    "percentage_missing_values2 = (np.count_nonzero(fill_missing_values.isnull()) * 100 ) / fill_missing_values.shape[0]\n",
    "\n",
    "print('Now the dataset contains ' + str(round(percentage_missing_values2, 2)) + '% of missing values')"
   ]
  },
  {
   "cell_type": "code",
   "execution_count": 94,
   "metadata": {},
   "outputs": [
    {
     "data": {
      "text/plain": [
       "0"
      ]
     },
     "execution_count": 94,
     "metadata": {},
     "output_type": "execute_result"
    }
   ],
   "source": [
    "# dropping the 23% of missiong vallues\n",
    "clean_df = fill_missing_values.dropna()\n",
    "np.count_nonzero(clean_df.isnull())\n",
    "\n",
    "# The df contains zero missing values\n"
   ]
  },
  {
   "cell_type": "code",
   "execution_count": 96,
   "metadata": {},
   "outputs": [
    {
     "data": {
      "text/plain": [
       "(2753, 40)"
      ]
     },
     "execution_count": 96,
     "metadata": {},
     "output_type": "execute_result"
    }
   ],
   "source": [
    "# Now the Df contains 2753 rows and 40 columns\n",
    "clean_df.shape"
   ]
  },
  {
   "cell_type": "code",
   "execution_count": 97,
   "metadata": {},
   "outputs": [],
   "source": [
    "# saving it as a new file called assignment_5_clean.csv\n",
    "clean_df.to_csv('assignment_5_clean.csv', index=False)\n"
   ]
  }
 ],
 "metadata": {
  "kernelspec": {
   "display_name": "Python 3 (ipykernel)",
   "language": "python",
   "name": "python3"
  },
  "language_info": {
   "codemirror_mode": {
    "name": "ipython",
    "version": 3
   },
   "file_extension": ".py",
   "mimetype": "text/x-python",
   "name": "python",
   "nbconvert_exporter": "python",
   "pygments_lexer": "ipython3",
   "version": "3.10.12"
  }
 },
 "nbformat": 4,
 "nbformat_minor": 4
}
